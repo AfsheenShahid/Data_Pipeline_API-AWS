{
 "cells": [
  {
   "cell_type": "code",
   "execution_count": 3,
   "id": "b022177e-464e-4e82-82a3-7584e65c4f90",
   "metadata": {
    "tags": []
   },
   "outputs": [],
   "source": [
    "import pandas as pd\n",
    "import requests\n",
    "import json"
   ]
  },
  {
   "cell_type": "code",
   "execution_count": 2,
   "id": "52571f55-5df8-43ea-a3f4-b90efba6ba7a",
   "metadata": {
    "tags": []
   },
   "outputs": [],
   "source": [
    "from API_keys import Aerodata_API_key as key"
   ]
  },
  {
   "cell_type": "code",
   "execution_count": 6,
   "id": "60fce738-47d3-46ce-b9c0-94445e703c91",
   "metadata": {
    "tags": []
   },
   "outputs": [],
   "source": [
    "latitudes= [52.5167, 53.55]\n",
    "longitudes =[13.3833, 10.0]"
   ]
  },
  {
   "cell_type": "code",
   "execution_count": 4,
   "id": "61e239fb-1457-42ac-9ab1-b5ad841f51fe",
   "metadata": {
    "tags": []
   },
   "outputs": [],
   "source": [
    "def Airport_ICAO(latitudes, longitudes):\n",
    "    from API_keys import Aerodata_API_key as key\n",
    "    Airport_Info_df = []\n",
    "\n",
    "    for index, value in enumerate(latitudes):\n",
    "\n",
    "        url = f\"https://aerodatabox.p.rapidapi.com/airports/search/location/{value}/{longitudes[index]}/km/50/16\"\n",
    "\n",
    "        querystring = {\"withFlightInfoOnly\":\"true\"}\n",
    "\n",
    "        headers = {\n",
    "      \"X-RapidAPI-Host\": \"aerodatabox.p.rapidapi.com\",\n",
    "      \"X-RapidAPI-Key\": key\n",
    "    }\n",
    "\n",
    "        response = requests.request(\"GET\", url, headers=headers, params=querystring)\n",
    "\n",
    "        Airport_Info_df.append(pd.json_normalize(response.json()['items']))\n",
    "\n",
    "    return pd.concat(Airport_Info_df, ignore_index=True)"
   ]
  },
  {
   "cell_type": "code",
   "execution_count": 16,
   "id": "194b5888-649f-4c46-ab02-a2ddf61adae1",
   "metadata": {
    "tags": []
   },
   "outputs": [
    {
     "data": {
      "text/html": [
       "<div>\n",
       "<style scoped>\n",
       "    .dataframe tbody tr th:only-of-type {\n",
       "        vertical-align: middle;\n",
       "    }\n",
       "\n",
       "    .dataframe tbody tr th {\n",
       "        vertical-align: top;\n",
       "    }\n",
       "\n",
       "    .dataframe thead th {\n",
       "        text-align: right;\n",
       "    }\n",
       "</style>\n",
       "<table border=\"1\" class=\"dataframe\">\n",
       "  <thead>\n",
       "    <tr style=\"text-align: right;\">\n",
       "      <th></th>\n",
       "      <th>icao</th>\n",
       "      <th>city_code</th>\n",
       "      <th>city_name</th>\n",
       "      <th>airport_latitude</th>\n",
       "      <th>airport_longitude</th>\n",
       "    </tr>\n",
       "  </thead>\n",
       "  <tbody>\n",
       "    <tr>\n",
       "      <th>0</th>\n",
       "      <td>EDDB</td>\n",
       "      <td>BER</td>\n",
       "      <td>Berlin</td>\n",
       "      <td>52.35139</td>\n",
       "      <td>13.493889</td>\n",
       "    </tr>\n",
       "    <tr>\n",
       "      <th>1</th>\n",
       "      <td>EDDH</td>\n",
       "      <td>HAM</td>\n",
       "      <td>Hamburg</td>\n",
       "      <td>53.63040</td>\n",
       "      <td>9.988229</td>\n",
       "    </tr>\n",
       "  </tbody>\n",
       "</table>\n",
       "</div>"
      ],
      "text/plain": [
       "   icao city_code city_name  airport_latitude  airport_longitude\n",
       "0  EDDB       BER    Berlin          52.35139          13.493889\n",
       "1  EDDH       HAM   Hamburg          53.63040           9.988229"
      ]
     },
     "execution_count": 16,
     "metadata": {},
     "output_type": "execute_result"
    }
   ],
   "source": [
    "Airport_df =Airport_ICAO(latitudes, longitudes).pipe(reshape_rename)\n",
    "Airport_df"
   ]
  },
  {
   "cell_type": "code",
   "execution_count": 15,
   "id": "1f967adb-d507-4716-a041-1212e879e186",
   "metadata": {
    "tags": []
   },
   "outputs": [],
   "source": [
    "def reshape_rename(df):\n",
    "    df = df.rename(columns={'municipalityName':'city_name','iata':'city_code', 'location.lat':'airport_latitude', 'location.lon':'airport_longitude'})\n",
    "    df = df.drop([\"name\", \"shortName\", \"countryCode\"], axis=1)\n",
    "    return df"
   ]
  },
  {
   "cell_type": "code",
   "execution_count": 17,
   "id": "c2a03f71-2a58-4898-9d73-40e24babbc74",
   "metadata": {
    "tags": []
   },
   "outputs": [],
   "source": [
    "from aws_con import con"
   ]
  },
  {
   "cell_type": "code",
   "execution_count": 18,
   "id": "6a1dced3-48f9-434b-bd8f-821c0a3174a8",
   "metadata": {
    "tags": []
   },
   "outputs": [
    {
     "data": {
      "text/plain": [
       "2"
      ]
     },
     "execution_count": 18,
     "metadata": {},
     "output_type": "execute_result"
    }
   ],
   "source": [
    "Airport_df.to_sql('Airports',\n",
    "              if_exists='append',\n",
    "              con=con,\n",
    "              index=False)"
   ]
  },
  {
   "cell_type": "code",
   "execution_count": null,
   "id": "1c693680-ace0-4f9b-b970-aac68d793b83",
   "metadata": {},
   "outputs": [],
   "source": []
  }
 ],
 "metadata": {
  "kernelspec": {
   "display_name": "Python 3 (ipykernel)",
   "language": "python",
   "name": "python3"
  },
  "language_info": {
   "codemirror_mode": {
    "name": "ipython",
    "version": 3
   },
   "file_extension": ".py",
   "mimetype": "text/x-python",
   "name": "python",
   "nbconvert_exporter": "python",
   "pygments_lexer": "ipython3",
   "version": "3.11.5"
  }
 },
 "nbformat": 4,
 "nbformat_minor": 5
}
