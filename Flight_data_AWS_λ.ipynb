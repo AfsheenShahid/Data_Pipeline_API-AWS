{
 "cells": [
  {
   "cell_type": "markdown",
   "id": "784b48d9-8c51-4494-a9d3-f5c6aace5fb3",
   "metadata": {
    "tags": []
   },
   "source": [
    "## A working lambda_function was created and connected with a flight_arrival_function in AWS Lambda Function services"
   ]
  },
  {
   "cell_type": "code",
   "execution_count": null,
   "id": "4f8ed0b2-71b5-488d-9409-8086474cee11",
   "metadata": {},
   "outputs": [],
   "source": [
    "import json\n",
    "import pandas as pd\n",
    "import os\n",
    "import sqlalchemy\n",
    "\n",
    "def lambda_handler(event, context):\n",
    "    \n",
    "    import Flight_fn\n",
    "    \n",
    "    con = os.environ[\"con\"]\n",
    "    Airports = pd.read_sql_table(\"Airports\", con=con)\n",
    "    icao_list = pd.Series(Airports['icao']) \n",
    "    Flights = Flight_fn.flight_arrival_data(icao_list)\n",
    "    Flights.to_sql('Flights',\n",
    "              if_exists='append',\n",
    "              con=con,\n",
    "              index=False)\n",
    "    \n",
    "    return {\n",
    "        'statusCode': 200,\n",
    "        'body': json.dumps('Hello from Lambda!')\n",
    "    }"
   ]
  },
  {
   "cell_type": "code",
   "execution_count": null,
   "id": "cd3d371b-39d7-417b-9110-1340572cbda0",
   "metadata": {},
   "outputs": [],
   "source": [
    "import pandas as pd\n",
    "import requests\n",
    "import json\n",
    "import os\n",
    "\n",
    "\n",
    "def cleaning_dataframe(df):\n",
    "    df['Departure_Time']= pd.to_datetime(df['Departure_Time'], utc= True)\n",
    "    df['Arrival_Time']= pd.to_datetime(df['Arrival_Time'], utc= True)\n",
    "    df['Data_Retrieval_Timestamp']= pd.to_datetime(df['Data_Retrieval_Timestamp'])\n",
    "    \n",
    "    return df\n",
    "    \n",
    "    \n",
    "def flight_arrival_data(icao_list):\n",
    "    key = os.environ[\"Aerodata_key\"]\n",
    "    from datetime import datetime, date, timedelta\n",
    "    from pytz import timezone\n",
    "    Arrival_flights = []\n",
    "    Flights_df = pd.DataFrame()\n",
    "    for icao in icao_list:\n",
    "        \n",
    "        today = datetime.now().astimezone(timezone('Europe/Berlin')).date()\n",
    "         \n",
    "        tomorrow = (today + timedelta(days=1))\n",
    "        \n",
    "        times = [[\"00:00\",\"11:59\"],[\"12:00\",\"23:59\"]]\n",
    "        \n",
    "        for time in times:\n",
    "            url = f\"https://aerodatabox.p.rapidapi.com/flights/airports/icao/{icao}/{tomorrow}T{time[0]}/{tomorrow}T{time[1]}\"\n",
    "            querystring = {\"withLeg\":\"true\",\"direction\":\"Arrival\",\"withCancelled\":\"false\",\"withCodeshared\":\"true\",\"withCargo\":\"false\",\"withPrivate\":\"false\"}\n",
    "            \n",
    "            headers = {\n",
    "          'x-rapidapi-host': \"aerodatabox.p.rapidapi.com\",\n",
    "          'x-rapidapi-key': key\n",
    "          }\n",
    "            \n",
    "            response = requests.request(\"GET\", url, headers=headers, params=querystring)\n",
    "            print(response.status_code)\n",
    "            arrival_flights_json = response.json()\n",
    "            \n",
    "            for hdj in arrival_flights_json['arrivals']:\n",
    "\n",
    "                Arrival_data_dict ={}\n",
    "                Arrival_data_dict['Arrival_ICAO']= icao\n",
    "                Arrival_data_dict['Departure_Airport'] = hdj['departure']['airport'].get('name', None)\n",
    "                Arrival_data_dict['Departure_Time'] = hdj.get('departure', {}).get('scheduledTime', {}).get('local', None)\n",
    "                Arrival_data_dict['Arrival_Time'] = hdj.get('arrivals', {}).get('scheduledTime', {}).get('local', None)\n",
    "                Arrival_data_dict['Flight_Status'] = hdj.get('status', None)\n",
    "                Arrival_data_dict['Arrival_Terminal'] = hdj['arrival'].get('terminal', None)\n",
    "                Arrival_data_dict['Flight_Number'] = hdj.get('number', None)\n",
    "                Arrival_data_dict['Airline'] =hdj['airline'].get('name', None)\n",
    "                Arrival_data_dict['Aircraft_type'] = hdj.get('aircraft',{}).get('model', None)\n",
    "                \n",
    "                    \n",
    "                Arrival_data_dict['Data_Retrieval_Timestamp'] = datetime.now().astimezone(timezone('Europe/Berlin')).strftime(\"%d/%m/%Y %H:%M:%S\")  \n",
    "                \n",
    "                Arrival_flights.append(Arrival_data_dict)\n",
    "                \n",
    "    return pd.DataFrame(Arrival_flights).pipe(cleaning_dataframe) \n",
    "    print(\"The Flight info has been updated\")\n"
   ]
  }
 ],
 "metadata": {
  "kernelspec": {
   "display_name": "Python 3 (ipykernel)",
   "language": "python",
   "name": "python3"
  },
  "language_info": {
   "codemirror_mode": {
    "name": "ipython",
    "version": 3
   },
   "file_extension": ".py",
   "mimetype": "text/x-python",
   "name": "python",
   "nbconvert_exporter": "python",
   "pygments_lexer": "ipython3",
   "version": "3.11.5"
  }
 },
 "nbformat": 4,
 "nbformat_minor": 5
}
