{
 "cells": [
  {
   "cell_type": "code",
   "execution_count": 1,
   "id": "7f0c48af-0033-47f6-afb3-b78824aff18a",
   "metadata": {
    "tags": []
   },
   "outputs": [],
   "source": [
    "import pandas as pd\n",
    "import requests\n",
    "import json\n",
    "from datetime import datetime"
   ]
  },
  {
   "cell_type": "code",
   "execution_count": null,
   "id": "e3c8efe9-9ae4-4ec2-b9b4-a0f85d12349f",
   "metadata": {
    "tags": []
   },
   "outputs": [],
   "source": [
    "cities = [\"Frankfurt\", \"Berlin\", \"Cologne\", \"Munich\", \"Hamburg\"]"
   ]
  },
  {
   "cell_type": "code",
   "execution_count": 90,
   "id": "be7af065-379e-4f15-9f97-cf6d1f9d51a0",
   "metadata": {
    "tags": []
   },
   "outputs": [],
   "source": [
    "def weather_1(cities):\n",
    "    from API_keys import open_weather_API_key as API_key\n",
    "\n",
    "    now = datetime.now()\n",
    "\n",
    "    weather_dict1= {\"City\": [],\n",
    "                \"Country\": [],\n",
    "                \"Forecast_Time\": [],\n",
    "                \"Weather_Outlook\": [],\n",
    "                \"Weather_Detailed\": [],\n",
    "                \"Temperature\": [],\n",
    "                \"Real_Feel_Temperature\": [],\n",
    "                \"Wind_Speed\": [],\n",
    "                \"Rain_Risk\": [],\n",
    "                \"Rain_fall_mm\": [],\n",
    "                \"Snow_fall_mm\": [],\n",
    "                \"info_retrieved_at\": []}\n",
    "    \n",
    "    for city in cities:\n",
    "        url = f\"http://api.openweathermap.org/data/2.5/forecast?q={city}&appid={API_key}&units=metric\"\n",
    "        response = requests.get(url)\n",
    "        wdj_response = response.json()\n",
    "\n",
    "        for wdj in  wdj_response['list'][:8]:\n",
    "                weather_dict1['City'].append(wdj_response['city']['name']),\n",
    "                weather_dict1['Country'].append(wdj_response['city']['country']),\n",
    "                weather_dict1['Forecast_Time'].append(wdj['dt_txt']),\n",
    "                weather_dict1['Weather_Outlook'].append(wdj['weather'][0]['main']),\n",
    "                weather_dict1['Weather_Detailed'].append(wdj['weather'][0]['description']),\n",
    "                weather_dict1['Temperature'].append(wdj['main']['temp']),\n",
    "                weather_dict1['Real_Feel_Temperature'].append(wdj['main']['feels_like']),\n",
    "                weather_dict1['Wind_Speed'].append(wdj['wind']['speed']),\n",
    "                weather_dict1['Rain_Risk'].append(wdj['pop'])\n",
    "\n",
    "                try:\n",
    "                  weather_dict1[\"Rain_fall_mm\"].append(wdj[\"rain\"][\"3h\"])\n",
    "                except:\n",
    "                  weather_dict1[\"Rain_fall_mm\"].append(\"0\")\n",
    "                try:\n",
    "                  weather_dict1[\"Snow_fall_mm\"].append(wdj[\"snow\"][\"3h\"])\n",
    "                except:\n",
    "                  weather_dict1[\"Snow_fall_mm\"].append(\"0\")\n",
    "\n",
    "                weather_dict1[\"info_retrieved_at\"].append(now.strftime(\"%d/%m/%Y %H:%M:%S\"))\n",
    "\n",
    "\n",
    "    return pd.DataFrame(weather_dict1).pipe(clean_weather).pipe(rename_reshape)"
   ]
  },
  {
   "cell_type": "code",
   "execution_count": null,
   "id": "d88de776-f8f8-4f2b-a7ed-a5500dee4daa",
   "metadata": {
    "tags": []
   },
   "outputs": [],
   "source": [
    "cities = [\"Berlin\", \"Frankfurt\", \"Cologne\", \"Munich\", \"Hamburg\"]\n",
    "\n",
    "\n",
    "\n",
    "weather_1(cities)\n"
   ]
  },
  {
   "cell_type": "code",
   "execution_count": 1,
   "id": "a281b322-0447-47ea-916f-be977a09f352",
   "metadata": {
    "tags": []
   },
   "outputs": [],
   "source": [
    "def rename_reshape(df):\n",
    "    df = df.rename(columns={'City':'city_name', 'Country':'country_code'})\n",
    "    df['city_code']= df['city_name'].str[:3]\n",
    "    df['city_code'] =df['city_code'].str.upper()\n",
    "    return df"
   ]
  },
  {
   "cell_type": "code",
   "execution_count": 2,
   "id": "d33ffe01-a231-4d7a-afa5-ef4ce1a71c5d",
   "metadata": {
    "tags": []
   },
   "outputs": [],
   "source": [
    "def clean_weather(df):    \n",
    "    numeric_columns = ['Temperature', 'Real_Feel_Temperature', 'Wind_Speed', 'Rain_Risk', 'Rain_fall_mm', 'Snow_fall_mm']\n",
    "    datetime_columns = ['Forecast_Time', 'info_retrieved_at']\n",
    "\n",
    "    for measure in numeric_columns:\n",
    "        df[measure] = pd.to_numeric(df[measure])\n",
    "    for dt in datetime_columns:\n",
    "        df[dt] = pd.to_datetime(df[dt])\n",
    "    return df"
   ]
  },
  {
   "cell_type": "code",
   "execution_count": 85,
   "id": "43e4f169-733f-40e5-9262-3e4227556fa7",
   "metadata": {
    "tags": []
   },
   "outputs": [],
   "source": [
    "import sqlalchemy\n",
    "import pymysql\n",
    "import numpy as np"
   ]
  },
  {
   "cell_type": "code",
   "execution_count": 88,
   "id": "d6759c87-d9c8-4ad0-b39f-fb50b60c2d0b",
   "metadata": {
    "tags": []
   },
   "outputs": [],
   "source": [
    "from password_sql import con"
   ]
  },
  {
   "cell_type": "code",
   "execution_count": 87,
   "id": "b5a3c7a1-046e-41ec-8bd9-94bc7d6d9667",
   "metadata": {
    "tags": []
   },
   "outputs": [
    {
     "data": {
      "text/plain": [
       "64"
      ]
     },
     "execution_count": 87,
     "metadata": {},
     "output_type": "execute_result"
    }
   ],
   "source": [
    "weather_df.to_sql('weather',\n",
    "              if_exists='append',\n",
    "              con=con,\n",
    "              index=False)"
   ]
  },
  {
   "cell_type": "code",
   "execution_count": null,
   "id": "8c76b454-03d4-4244-9455-f1e50440c586",
   "metadata": {},
   "outputs": [],
   "source": []
  }
 ],
 "metadata": {
  "kernelspec": {
   "display_name": "Python 3 (ipykernel)",
   "language": "python",
   "name": "python3"
  },
  "language_info": {
   "codemirror_mode": {
    "name": "ipython",
    "version": 3
   },
   "file_extension": ".py",
   "mimetype": "text/x-python",
   "name": "python",
   "nbconvert_exporter": "python",
   "pygments_lexer": "ipython3",
   "version": "3.11.5"
  }
 },
 "nbformat": 4,
 "nbformat_minor": 5
}
