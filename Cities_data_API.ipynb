{
 "cells": [
  {
   "cell_type": "markdown",
   "id": "c92293d7-9be8-416f-9058-4566f2048223",
   "metadata": {},
   "source": [
    "## Collecting data with APIs"
   ]
  },
  {
   "cell_type": "markdown",
   "id": "19fa688f-9a36-4ab6-aacb-ccf882cad09c",
   "metadata": {},
   "source": [
    " The magic API that provides useful statistics about many cities around the world: https://api-ninjas.com/api/city'"
   ]
  },
  {
   "cell_type": "code",
   "execution_count": 3,
   "id": "1d7d326f-eaa6-4180-9515-a89bc0dc634a",
   "metadata": {
    "tags": []
   },
   "outputs": [],
   "source": [
    "import pandas as pd\n",
    "import requests\n",
    "import json"
   ]
  },
  {
   "cell_type": "code",
   "execution_count": 4,
   "id": "3d6095d7-93cc-4553-9313-ea0ed4a66bbe",
   "metadata": {
    "collapsed": true,
    "jupyter": {
     "outputs_hidden": true
    },
    "tags": []
   },
   "outputs": [
    {
     "data": {
      "text/plain": [
       "[{'name': 'Berlin',\n",
       "  'latitude': 52.5167,\n",
       "  'longitude': 13.3833,\n",
       "  'country': 'DE',\n",
       "  'population': 3644826,\n",
       "  'is_capital': True},\n",
       " {'name': 'Hamburg',\n",
       "  'latitude': 53.55,\n",
       "  'longitude': 10.0,\n",
       "  'country': 'DE',\n",
       "  'population': 1841179,\n",
       "  'is_capital': False},\n",
       " {'name': 'Munich',\n",
       "  'latitude': 48.1372,\n",
       "  'longitude': 11.5755,\n",
       "  'country': 'DE',\n",
       "  'population': 1471508,\n",
       "  'is_capital': False},\n",
       " {'name': 'Cologne',\n",
       "  'latitude': 50.9422,\n",
       "  'longitude': 6.9578,\n",
       "  'country': 'DE',\n",
       "  'population': 1085664,\n",
       "  'is_capital': False},\n",
       " {'name': 'Frankfurt',\n",
       "  'latitude': 50.1136,\n",
       "  'longitude': 8.6797,\n",
       "  'country': 'DE',\n",
       "  'population': 753056,\n",
       "  'is_capital': False}]"
      ]
     },
     "execution_count": 4,
     "metadata": {},
     "output_type": "execute_result"
    }
   ],
   "source": [
    "country = \"DE\"\n",
    "min_population = \"500000\"\n",
    "limit = \"5\"\n",
    "from API_keys import city_data_key as key\n",
    "\n",
    "\n",
    "cities = requests.get(f\"https://api.api-ninjas.com/v1/city?country={country}&min_population={min_population}&limit={limit}\", headers={'X-Api-Key': key})\n",
    "cities_json = cities.json()\n",
    "cities_json"
   ]
  },
  {
   "cell_type": "code",
   "execution_count": 5,
   "id": "6a5fe083-3c12-43b1-81d6-b49449ff9665",
   "metadata": {
    "tags": []
   },
   "outputs": [],
   "source": [
    "from IPython.display import JSON"
   ]
  },
  {
   "cell_type": "code",
   "execution_count": 6,
   "id": "bf7f1d9c-d3ba-43d6-a564-d417706df896",
   "metadata": {
    "tags": []
   },
   "outputs": [
    {
     "data": {
      "application/json": [
       {
        "country": "DE",
        "is_capital": true,
        "latitude": 52.5167,
        "longitude": 13.3833,
        "name": "Berlin",
        "population": 3644826
       },
       {
        "country": "DE",
        "is_capital": false,
        "latitude": 53.55,
        "longitude": 10,
        "name": "Hamburg",
        "population": 1841179
       },
       {
        "country": "DE",
        "is_capital": false,
        "latitude": 48.1372,
        "longitude": 11.5755,
        "name": "Munich",
        "population": 1471508
       },
       {
        "country": "DE",
        "is_capital": false,
        "latitude": 50.9422,
        "longitude": 6.9578,
        "name": "Cologne",
        "population": 1085664
       },
       {
        "country": "DE",
        "is_capital": false,
        "latitude": 50.1136,
        "longitude": 8.6797,
        "name": "Frankfurt",
        "population": 753056
       }
      ],
      "text/plain": [
       "<IPython.core.display.JSON object>"
      ]
     },
     "execution_count": 6,
     "metadata": {
      "application/json": {
       "expanded": false,
       "root": "root"
      }
     },
     "output_type": "execute_result"
    }
   ],
   "source": [
    "# makes it look nicer and easier to navigate through different dictionaries and list\n",
    "JSON(cities_json)"
   ]
  },
  {
   "cell_type": "markdown",
   "id": "0b58a933-14d3-4e37-8ab1-cd37dd13aa83",
   "metadata": {},
   "source": [
    "## some cleaning step"
   ]
  },
  {
   "cell_type": "code",
   "execution_count": 8,
   "id": "2e609bab-128b-41cc-a280-6eb358ae8d65",
   "metadata": {
    "tags": []
   },
   "outputs": [],
   "source": [
    "def clean_cities(df):    \n",
    "    numeric_columns = ['latitude', 'longitude', 'population']\n",
    "\n",
    "    for measure in numeric_columns:\n",
    "        df[measure] = pd.to_numeric(df[measure])\n",
    "        \n",
    "    df = df.drop([\"is_capital\"], axis=1)\n",
    "    \n",
    "    print(\"The city data has been cleaned!\")\n",
    "    return df"
   ]
  },
  {
   "cell_type": "markdown",
   "id": "782efc26-3781-4045-a734-e792a98cdba4",
   "metadata": {},
   "source": [
    "## some renaming and reshaping of the dataframe"
   ]
  },
  {
   "cell_type": "code",
   "execution_count": 9,
   "id": "de9fb482-9881-4618-9d86-9d43b2e8c8cb",
   "metadata": {
    "tags": []
   },
   "outputs": [],
   "source": [
    "def rename_reshape(df):\n",
    "    df = df.rename(columns={'name':'city_name', 'country':'country_code'})\n",
    "    df['city_code']= df['city_name'].str[:3]\n",
    "    df['city_code'] =df['city_code'].str.upper()\n",
    "    return df"
   ]
  },
  {
   "cell_type": "code",
   "execution_count": 10,
   "id": "763cfe54-0e25-4f32-851a-133f16a3c4c3",
   "metadata": {
    "tags": []
   },
   "outputs": [
    {
     "name": "stdout",
     "output_type": "stream",
     "text": [
      "The city data has been cleaned!\n"
     ]
    },
    {
     "data": {
      "text/html": [
       "<div>\n",
       "<style scoped>\n",
       "    .dataframe tbody tr th:only-of-type {\n",
       "        vertical-align: middle;\n",
       "    }\n",
       "\n",
       "    .dataframe tbody tr th {\n",
       "        vertical-align: top;\n",
       "    }\n",
       "\n",
       "    .dataframe thead th {\n",
       "        text-align: right;\n",
       "    }\n",
       "</style>\n",
       "<table border=\"1\" class=\"dataframe\">\n",
       "  <thead>\n",
       "    <tr style=\"text-align: right;\">\n",
       "      <th></th>\n",
       "      <th>city_name</th>\n",
       "      <th>latitude</th>\n",
       "      <th>longitude</th>\n",
       "      <th>country_code</th>\n",
       "      <th>population</th>\n",
       "      <th>city_code</th>\n",
       "    </tr>\n",
       "  </thead>\n",
       "  <tbody>\n",
       "    <tr>\n",
       "      <th>0</th>\n",
       "      <td>Berlin</td>\n",
       "      <td>52.5167</td>\n",
       "      <td>13.3833</td>\n",
       "      <td>DE</td>\n",
       "      <td>3644826</td>\n",
       "      <td>BER</td>\n",
       "    </tr>\n",
       "    <tr>\n",
       "      <th>1</th>\n",
       "      <td>Hamburg</td>\n",
       "      <td>53.5500</td>\n",
       "      <td>10.0000</td>\n",
       "      <td>DE</td>\n",
       "      <td>1841179</td>\n",
       "      <td>HAM</td>\n",
       "    </tr>\n",
       "    <tr>\n",
       "      <th>2</th>\n",
       "      <td>Munich</td>\n",
       "      <td>48.1372</td>\n",
       "      <td>11.5755</td>\n",
       "      <td>DE</td>\n",
       "      <td>1471508</td>\n",
       "      <td>MUN</td>\n",
       "    </tr>\n",
       "    <tr>\n",
       "      <th>3</th>\n",
       "      <td>Cologne</td>\n",
       "      <td>50.9422</td>\n",
       "      <td>6.9578</td>\n",
       "      <td>DE</td>\n",
       "      <td>1085664</td>\n",
       "      <td>COL</td>\n",
       "    </tr>\n",
       "    <tr>\n",
       "      <th>4</th>\n",
       "      <td>Frankfurt</td>\n",
       "      <td>50.1136</td>\n",
       "      <td>8.6797</td>\n",
       "      <td>DE</td>\n",
       "      <td>753056</td>\n",
       "      <td>FRA</td>\n",
       "    </tr>\n",
       "  </tbody>\n",
       "</table>\n",
       "</div>"
      ],
      "text/plain": [
       "   city_name  latitude  longitude country_code  population city_code\n",
       "0     Berlin   52.5167    13.3833           DE     3644826       BER\n",
       "1    Hamburg   53.5500    10.0000           DE     1841179       HAM\n",
       "2     Munich   48.1372    11.5755           DE     1471508       MUN\n",
       "3    Cologne   50.9422     6.9578           DE     1085664       COL\n",
       "4  Frankfurt   50.1136     8.6797           DE      753056       FRA"
      ]
     },
     "execution_count": 10,
     "metadata": {},
     "output_type": "execute_result"
    }
   ],
   "source": [
    "cities_df = pd.DataFrame(cities_json).pipe(clean_cities).pipe(rename_reshape)\n",
    "cities_df"
   ]
  },
  {
   "cell_type": "code",
   "execution_count": 11,
   "id": "f9b23777-6b7c-4060-b3e3-5d4b3b10a568",
   "metadata": {
    "tags": []
   },
   "outputs": [],
   "source": [
    "# making the city codes consitent with Airport IATA codes for the upcoming steps.... and we are done after that\n",
    "cities_df['city_code']=['BER', 'HAM', 'MUC', 'CGN', 'FRA']"
   ]
  },
  {
   "cell_type": "code",
   "execution_count": null,
   "id": "72513c3d-a649-4877-96c3-404a48272672",
   "metadata": {},
   "outputs": [],
   "source": []
  }
 ],
 "metadata": {
  "kernelspec": {
   "display_name": "Python 3 (ipykernel)",
   "language": "python",
   "name": "python3"
  },
  "language_info": {
   "codemirror_mode": {
    "name": "ipython",
    "version": 3
   },
   "file_extension": ".py",
   "mimetype": "text/x-python",
   "name": "python",
   "nbconvert_exporter": "python",
   "pygments_lexer": "ipython3",
   "version": "3.11.5"
  }
 },
 "nbformat": 4,
 "nbformat_minor": 5
}
